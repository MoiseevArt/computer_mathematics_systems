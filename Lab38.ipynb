{
 "cells": [
  {
   "cell_type": "markdown",
   "id": "07bdc185",
   "metadata": {},
   "source": [
    "# Выплаты по кредиту. Решение трансцендентного уравнения.\n"
   ]
  },
  {
   "cell_type": "code",
   "execution_count": 8,
   "id": "855da385",
   "metadata": {},
   "outputs": [],
   "source": [
    "# Импортируем метод Бренда из библиотеки scipy\n",
    "from scipy.optimize import brentq"
   ]
  },
  {
   "cell_type": "code",
   "execution_count": 9,
   "id": "6c701336",
   "metadata": {},
   "outputs": [],
   "source": [
    "first_pmt = 1500\n",
    "first_years = 10\n",
    "\n",
    "second_pmt = 1250\n",
    "second_years = 15\n",
    "\n",
    "third_pmt = 1160\n",
    "third_years = 20\n",
    "\n",
    "pv = 100000 # Величина кредита\n",
    "fv = 0 # Баланс после платежей"
   ]
  },
  {
   "cell_type": "markdown",
   "id": "33438d21",
   "metadata": {},
   "source": [
    "## Для нахождения процентных ставок можно использовать основное финансовое уравнение:\n",
    "$$PV(1 + i)^n + PMT(1 + i)^{n-1} + PMT(1 + i)^{n-2} + ... + PMT + FV = 0$$\n",
    "\n",
    "### Где:\n",
    " - ${\\rm PV}$ - величина кредита (present value);\n",
    " - ${\\rm FV}$ - баланс после $n$ платежей (future value);\n",
    " - ${\\rm PMT}$ - величина периодического платежа со знаком минус (payment);\n",
    " - $n$ - количество платежей;\n",
    " - $i$ - процентная ставка (interest rate).\n",
    "## Использовать финансовое уравнение будем в слудующем виде:\n",
    "$$PV(1 + i)^n + \\frac{PMT(1 + i)^n - 1}{i} + FV = 0$$"
   ]
  },
  {
   "cell_type": "code",
   "execution_count": 10,
   "id": "bb03f7d6",
   "metadata": {},
   "outputs": [],
   "source": [
    "def calculations(pmt, years):\n",
    "    def foo(i):\n",
    "        return pv * (1 + i) ** (years * 12) - pmt * (((1 + i) ** (years * 12) - 1) / i) + fv\n",
    "    return round(brentq(foo, 0.01, 1.0) * 12, 4)"
   ]
  },
  {
   "cell_type": "markdown",
   "id": "a29ac286",
   "metadata": {},
   "source": [
    "### Функция выше использует метод Бренда для вычисления неизвестной переменной в финансовом уравнении. В качестве первого параметра метод brentq принимает функцию, а в качестве второго и третьего - нижнюю и верхнюю границы искомого значения.\n",
    "\n",
    "### Возращаемое значение это годовая процентная ставка, округленная до 4х знаков после запятой."
   ]
  },
  {
   "cell_type": "code",
   "execution_count": 11,
   "id": "29a524f6",
   "metadata": {},
   "outputs": [
    {
     "name": "stdout",
     "output_type": "stream",
     "text": [
      "1 вариант: 0.1312% годовых, переплата: 80000$\n",
      "2 вариант: 0.1277% годовых, переплата: 125000$\n",
      "3 вариант: 0.1284% годовых, переплата: 178400$\n"
     ]
    }
   ],
   "source": [
    "print(f'1 вариант: {calculations(first_pmt, first_years)}% годовых, '\n",
    "      f'переплата: {first_pmt * first_years * 12 - pv}$')\n",
    "print(f'2 вариант: {calculations(second_pmt, second_years)}% годовых, '\n",
    "      f'переплата: {second_pmt * second_years * 12 - pv}$')\n",
    "print(f'3 вариант: {calculations(third_pmt, third_years)}% годовых, '\n",
    "      f'переплата: {third_pmt * third_years * 12 - pv}$')"
   ]
  },
  {
   "cell_type": "markdown",
   "id": "2e9c8ae2",
   "metadata": {},
   "source": [
    "# Вывод.\n",
    "\n",
    "### Второй вариант имеет наименьший годовой процент, но переплата выходит слишком большой. \n",
    "### Я бы выбрал первый вариант, так как процентная ставка не намного больше, чем в других случаях, но переплата выходит намного меньше."
   ]
  }
 ],
 "metadata": {
  "kernelspec": {
   "display_name": "Python 3 (ipykernel)",
   "language": "python",
   "name": "python3"
  },
  "language_info": {
   "codemirror_mode": {
    "name": "ipython",
    "version": 3
   },
   "file_extension": ".py",
   "mimetype": "text/x-python",
   "name": "python",
   "nbconvert_exporter": "python",
   "pygments_lexer": "ipython3",
   "version": "3.9.13"
  }
 },
 "nbformat": 4,
 "nbformat_minor": 5
}
